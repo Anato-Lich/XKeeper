{
 "cells": [
  {
   "cell_type": "markdown",
   "id": "4ab8039d-4c05-4bc5-97e0-f80d040e2524",
   "metadata": {},
   "source": [
    "***3 задание***\n",
    "\n",
    "Даётся значение CSS селектора, функция должна вернуть объект \n",
    "\n",
    "solution(“#FF9933”)\n",
    "\n",
    "// {r: 255, g: 153, b: 51}"
   ]
  },
  {
   "cell_type": "code",
   "execution_count": 61,
   "id": "eacd422b-2c6f-4867-b692-329e13f8e15a",
   "metadata": {
    "tags": []
   },
   "outputs": [],
   "source": [
    "def css_to_rgb(css : str):\n",
    "    tmp = css[1:]\n",
    "    \n",
    "    assert (len(tmp) == 6), \"Wrong CSS, length should be 6 without #\"\n",
    "    # print(tmp)\n",
    "    r = int(tmp[0:2], 16)\n",
    "    g = int(tmp[2:4], 16)\n",
    "    b = int(tmp[4:6], 16)\n",
    "    \n",
    "    d = {'r' : r, 'g' : g, 'b' : b}\n",
    "    return d"
   ]
  },
  {
   "cell_type": "code",
   "execution_count": 62,
   "id": "2c03b1d5-62fd-4424-b4be-81c33558234d",
   "metadata": {
    "tags": []
   },
   "outputs": [
    {
     "data": {
      "text/plain": [
       "{'r': 255, 'g': 18, 'b': 69}"
      ]
     },
     "execution_count": 62,
     "metadata": {},
     "output_type": "execute_result"
    }
   ],
   "source": [
    "css_to_rgb(\"#FF1245\")"
   ]
  },
  {
   "cell_type": "code",
   "execution_count": 108,
   "id": "c7f7b60b-2567-4cf6-a304-653187be7b0d",
   "metadata": {
    "tags": []
   },
   "outputs": [
    {
     "data": {
      "text/plain": [
       "{'r': 255, 'g': 153, 'b': 51}"
      ]
     },
     "execution_count": 108,
     "metadata": {},
     "output_type": "execute_result"
    }
   ],
   "source": [
    "css_to_rgb(\"#FF9933\")"
   ]
  },
  {
   "cell_type": "code",
   "execution_count": 107,
   "id": "02cbce3a-f8b3-4a6e-8761-340954007895",
   "metadata": {
    "tags": []
   },
   "outputs": [
    {
     "ename": "AssertionError",
     "evalue": "Wrong CSS, length should be 6 without #",
     "output_type": "error",
     "traceback": [
      "\u001b[1;31m---------------------------------------------------------------------------\u001b[0m",
      "\u001b[1;31mAssertionError\u001b[0m                            Traceback (most recent call last)",
      "Cell \u001b[1;32mIn[107], line 1\u001b[0m\n\u001b[1;32m----> 1\u001b[0m \u001b[43mcss_to_rgb\u001b[49m\u001b[43m(\u001b[49m\u001b[38;5;124;43m\"\u001b[39;49m\u001b[38;5;124;43m214\u001b[39;49m\u001b[38;5;124;43m\"\u001b[39;49m\u001b[43m)\u001b[49m\n",
      "Cell \u001b[1;32mIn[61], line 4\u001b[0m, in \u001b[0;36mcss_to_rgb\u001b[1;34m(css)\u001b[0m\n\u001b[0;32m      1\u001b[0m \u001b[38;5;28;01mdef\u001b[39;00m \u001b[38;5;21mcss_to_rgb\u001b[39m(css : \u001b[38;5;28mstr\u001b[39m):\n\u001b[0;32m      2\u001b[0m     tmp \u001b[38;5;241m=\u001b[39m css[\u001b[38;5;241m1\u001b[39m:]\n\u001b[1;32m----> 4\u001b[0m     \u001b[38;5;28;01massert\u001b[39;00m (\u001b[38;5;28mlen\u001b[39m(tmp) \u001b[38;5;241m==\u001b[39m \u001b[38;5;241m6\u001b[39m), \u001b[38;5;124m\"\u001b[39m\u001b[38;5;124mWrong CSS, length should be 6 without #\u001b[39m\u001b[38;5;124m\"\u001b[39m\n\u001b[0;32m      5\u001b[0m     \u001b[38;5;66;03m# print(tmp)\u001b[39;00m\n\u001b[0;32m      6\u001b[0m     r \u001b[38;5;241m=\u001b[39m \u001b[38;5;28mint\u001b[39m(tmp[\u001b[38;5;241m0\u001b[39m:\u001b[38;5;241m2\u001b[39m], \u001b[38;5;241m16\u001b[39m)\n",
      "\u001b[1;31mAssertionError\u001b[0m: Wrong CSS, length should be 6 without #"
     ]
    }
   ],
   "source": [
    "css_to_rgb(\"214\")"
   ]
  },
  {
   "cell_type": "markdown",
   "id": "2f8da819-5a7c-4e4c-9a96-bff9e3f449be",
   "metadata": {},
   "source": [
    "***2 задание***\n",
    "\n",
    "Даётся сортированная последовательность целых чисел, необходимо вернуть строку, которая бы содержала целые числа, или диапазоны чисел где это возможно, разделенные запятой. \n",
    "\n",
    "solution([-6, -4, -3, -2, 0, 4, 7, 8, 10])\n",
    "\n",
    "// \"-6,-4--2,0,4,7-8,10\""
   ]
  },
  {
   "cell_type": "code",
   "execution_count": 101,
   "id": "5f131306-29a9-4bcb-bec8-f63dae4eabc5",
   "metadata": {
    "tags": []
   },
   "outputs": [],
   "source": [
    "def ranges(tmp):\n",
    "\n",
    "    begin = -1\n",
    "    end = -1\n",
    "    res = ''\n",
    "    \n",
    "    assert all(tmp[i] <= tmp[i+1] for i in range(len(tmp) - 1)), \"List is not sorted\"\n",
    "    \n",
    "    for i in range(len(tmp) - 1):\n",
    "        if tmp[i] == tmp[i+1] - 1:\n",
    "            if begin == -1:\n",
    "                begin = i\n",
    "                res += (str(tmp[begin]) + '-')\n",
    "            end = i+1\n",
    "        else:\n",
    "            begin = -1\n",
    "            res += str(tmp[i]) + ','\n",
    "        # print(begin, end)\n",
    "\n",
    "    if end == len(tmp) - 1:\n",
    "        res += str(tmp[end])\n",
    "    else:\n",
    "        res += str(tmp[-1])\n",
    "        \n",
    "    return res"
   ]
  },
  {
   "cell_type": "code",
   "execution_count": 103,
   "id": "f45f0073-9f2c-4519-b1e7-89fee22f3252",
   "metadata": {
    "tags": []
   },
   "outputs": [
    {
     "data": {
      "text/plain": [
       "'-6,-4--2,0,4,7-10'"
      ]
     },
     "execution_count": 103,
     "metadata": {},
     "output_type": "execute_result"
    }
   ],
   "source": [
    "ranges([-6, -4, -3, -2, 0, 4, 7, 8, 9, 10])"
   ]
  },
  {
   "cell_type": "code",
   "execution_count": 104,
   "id": "0308ea0d-7626-4b94-b5c6-05c2ede69e6e",
   "metadata": {
    "tags": []
   },
   "outputs": [
    {
     "data": {
      "text/plain": [
       "'0-4'"
      ]
     },
     "execution_count": 104,
     "metadata": {},
     "output_type": "execute_result"
    }
   ],
   "source": [
    "ranges([0, 1, 2, 3, 4])"
   ]
  },
  {
   "cell_type": "code",
   "execution_count": 105,
   "id": "e4de06c1-18c8-45cc-8a1d-5875e6083765",
   "metadata": {
    "tags": []
   },
   "outputs": [
    {
     "data": {
      "text/plain": [
       "'-3--2,0-3'"
      ]
     },
     "execution_count": 105,
     "metadata": {},
     "output_type": "execute_result"
    }
   ],
   "source": [
    "ranges([-3, -2, 0, 1, 2, 3])"
   ]
  },
  {
   "cell_type": "code",
   "execution_count": 106,
   "id": "837721b2-c394-418c-9d33-03469c1a8b28",
   "metadata": {
    "tags": []
   },
   "outputs": [
    {
     "ename": "AssertionError",
     "evalue": "List is not sorted",
     "output_type": "error",
     "traceback": [
      "\u001b[1;31m---------------------------------------------------------------------------\u001b[0m",
      "\u001b[1;31mAssertionError\u001b[0m                            Traceback (most recent call last)",
      "Cell \u001b[1;32mIn[106], line 1\u001b[0m\n\u001b[1;32m----> 1\u001b[0m \u001b[43mranges\u001b[49m\u001b[43m(\u001b[49m\u001b[43m[\u001b[49m\u001b[38;5;241;43m1\u001b[39;49m\u001b[43m,\u001b[49m\u001b[43m \u001b[49m\u001b[38;5;241;43m2\u001b[39;49m\u001b[43m,\u001b[49m\u001b[43m \u001b[49m\u001b[38;5;241;43m5\u001b[39;49m\u001b[43m,\u001b[49m\u001b[43m \u001b[49m\u001b[38;5;241;43m4\u001b[39;49m\u001b[43m,\u001b[49m\u001b[43m \u001b[49m\u001b[38;5;241;43m3\u001b[39;49m\u001b[43m]\u001b[49m\u001b[43m)\u001b[49m\n",
      "Cell \u001b[1;32mIn[101], line 7\u001b[0m, in \u001b[0;36mranges\u001b[1;34m(tmp)\u001b[0m\n\u001b[0;32m      4\u001b[0m end \u001b[38;5;241m=\u001b[39m \u001b[38;5;241m-\u001b[39m\u001b[38;5;241m1\u001b[39m\n\u001b[0;32m      5\u001b[0m res \u001b[38;5;241m=\u001b[39m \u001b[38;5;124m'\u001b[39m\u001b[38;5;124m'\u001b[39m\n\u001b[1;32m----> 7\u001b[0m \u001b[38;5;28;01massert\u001b[39;00m \u001b[38;5;28mall\u001b[39m(tmp[i] \u001b[38;5;241m<\u001b[39m\u001b[38;5;241m=\u001b[39m tmp[i\u001b[38;5;241m+\u001b[39m\u001b[38;5;241m1\u001b[39m] \u001b[38;5;28;01mfor\u001b[39;00m i \u001b[38;5;129;01min\u001b[39;00m \u001b[38;5;28mrange\u001b[39m(\u001b[38;5;28mlen\u001b[39m(tmp) \u001b[38;5;241m-\u001b[39m \u001b[38;5;241m1\u001b[39m)), \u001b[38;5;124m\"\u001b[39m\u001b[38;5;124mList is not sorted\u001b[39m\u001b[38;5;124m\"\u001b[39m\n\u001b[0;32m      9\u001b[0m \u001b[38;5;28;01mfor\u001b[39;00m i \u001b[38;5;129;01min\u001b[39;00m \u001b[38;5;28mrange\u001b[39m(\u001b[38;5;28mlen\u001b[39m(tmp) \u001b[38;5;241m-\u001b[39m \u001b[38;5;241m1\u001b[39m):\n\u001b[0;32m     10\u001b[0m     \u001b[38;5;28;01mif\u001b[39;00m tmp[i] \u001b[38;5;241m==\u001b[39m tmp[i\u001b[38;5;241m+\u001b[39m\u001b[38;5;241m1\u001b[39m] \u001b[38;5;241m-\u001b[39m \u001b[38;5;241m1\u001b[39m:\n",
      "\u001b[1;31mAssertionError\u001b[0m: List is not sorted"
     ]
    }
   ],
   "source": [
    "ranges([1, 2, 5, 4, 3])"
   ]
  },
  {
   "cell_type": "markdown",
   "id": "9a8ab0db-f729-47ed-b8f8-18b722a95e14",
   "metadata": {
    "tags": []
   },
   "source": [
    "***1 задание***\n",
    "\n",
    "Необходимо придумать, и любым удобным способом рассказать - каким образом бы Вы подошли к созданию функциональности, которая позволит пользователям генерировать excel отчеты по заказам компании.\n",
    "\n",
    "Имеется монолитное web приложение, использующее postgresql, nodejs, angular\n",
    "\n",
    "Из БД необходимо достать таблицы для дальнейшего анализа\n",
    "\n",
    "Выгрузка отчетов за год существенно замедляет работу\n",
    "\n",
    "Данные по одному заказу в разных таблицах\n",
    "\n",
    "**Решение**\n",
    "\n",
    "    PostgreSQL имеет встроенный скриптовый язык, схожий с PL/SQl\n",
    "<!--     , выгрузка в .csv происходит командой  -->\n",
    "\n",
    "<!--     COPY (SELECT <params> FROM <DB>) TO <path/file.csv> CSV HEADER DELIMITER ',' -->\n",
    "\n",
    "    Скорее всего знает некий идентификатор заказа, по которому нужна выгрузка.\n",
    "<!--     Делать несколько запросов по всем заказам в формате COPY (SELECT FROM WHERE id = public_id)? -->\n",
    "\n",
    "    Node.js позволяет пользоваться единым языком JavaScript для написания кода и на стороне клиента (Frontend), и на сервере (Backend)\n",
    "\n",
    "    Angular - фреймворк для разрабоки web-приложений.\n",
    "\n",
    "    Реализовать в интерфейсе web-приложения форму выбора месяца для выгрузки, заказов для выгрузки и кнопка выполнения запроса\n",
    "    \n",
    "    По нажатию кнопки Node запрашивает у сервера даннные из БД\n",
    "    По запросу сервер выполняет SQL запрос с полученными от Node параметрами\n",
    "    \n",
    "    Результаты запроса отдаются Node, которые выводятся в web-приложении.\n",
    "    \n",
    "    Отдавать можно либо просто данные, и формировать файл кодом в Node, либо собирать данные в файл на сервере и отдавать сразу файл."
   ]
  },
  {
   "cell_type": "code",
   "execution_count": null,
   "id": "f06e7c41-6941-4d8d-bd9d-1fa2a3ad6483",
   "metadata": {},
   "outputs": [],
   "source": []
  }
 ],
 "metadata": {
  "kernelspec": {
   "display_name": "Python 3 (ipykernel)",
   "language": "python",
   "name": "python3"
  },
  "language_info": {
   "codemirror_mode": {
    "name": "ipython",
    "version": 3
   },
   "file_extension": ".py",
   "mimetype": "text/x-python",
   "name": "python",
   "nbconvert_exporter": "python",
   "pygments_lexer": "ipython3",
   "version": "3.10.6"
  }
 },
 "nbformat": 4,
 "nbformat_minor": 5
}
